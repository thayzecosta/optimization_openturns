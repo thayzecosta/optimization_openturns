{
 "cells": [
  {
   "cell_type": "code",
   "execution_count": 3,
   "metadata": {},
   "outputs": [
    {
     "name": "stdout",
     "output_type": "stream",
     "text": [
      "Defaulting to user installation because normal site-packages is not writeable\n",
      "Collecting openturns\n",
      "  Downloading openturns-1.20.post3-cp310-cp310-manylinux2014_x86_64.manylinux_2_17_x86_64.whl (58.0 MB)\n",
      "\u001b[2K     \u001b[38;2;114;156;31m━━━━━━━━━━━━━━━━━━━━━━━━━━━━━━━━━━━━━━━━\u001b[0m \u001b[32m58.0/58.0 MB\u001b[0m \u001b[31m4.8 MB/s\u001b[0m eta \u001b[36m0:00:00\u001b[0mm eta \u001b[36m0:00:01\u001b[0m[36m0:00:01\u001b[0mm\n",
      "\u001b[?25hCollecting psutil\n",
      "  Downloading psutil-5.9.5-cp36-abi3-manylinux_2_12_x86_64.manylinux2010_x86_64.manylinux_2_17_x86_64.manylinux2014_x86_64.whl (282 kB)\n",
      "\u001b[2K     \u001b[38;2;114;156;31m━━━━━━━━━━━━━━━━━━━━━━━━━━━━━━━━━━━━━━\u001b[0m \u001b[32m282.1/282.1 kB\u001b[0m \u001b[31m98.1 kB/s\u001b[0m eta \u001b[36m0:00:00\u001b[0m[36m0:00:01\u001b[0m[36m0:00:01\u001b[0m:02\u001b[0m\n",
      "\u001b[?25hRequirement already satisfied: dill in /home/thayze/.local/lib/python3.10/site-packages (from openturns) (0.3.6)\n",
      "Installing collected packages: psutil, openturns\n",
      "Successfully installed openturns-1.20.post3 psutil-5.9.5\n",
      "\n",
      "\u001b[1m[\u001b[0m\u001b[34;49mnotice\u001b[0m\u001b[1;39;49m]\u001b[0m\u001b[39;49m A new release of pip is available: \u001b[0m\u001b[31;49m23.0.1\u001b[0m\u001b[39;49m -> \u001b[0m\u001b[32;49m23.1\u001b[0m\n",
      "\u001b[1m[\u001b[0m\u001b[34;49mnotice\u001b[0m\u001b[1;39;49m]\u001b[0m\u001b[39;49m To update, run: \u001b[0m\u001b[32;49m/home/thayze/git/thayzecosta/django_dashboard/django_dashboard/local/bin/python3 -m pip install --upgrade pip\u001b[0m\n"
     ]
    }
   ],
   "source": [
    "# exemplo extraído de https://openturns.github.io/openturns/1.17/auto_numerical_methods/optimization/plot_optimization_bonmin.html\n",
    "\n",
    "# dependências\n",
    "%matplotlib inline\n",
    "!pip install openturns\n"
   ]
  },
  {
   "cell_type": "markdown",
   "metadata": {},
   "source": [
    "\n",
    "# Optimization using bonmin\n"
   ]
  },
  {
   "cell_type": "markdown",
   "metadata": {},
   "source": [
    "In this example we are going to explore mixed-integer non linear problems optimization using OpenTURNS' bonmin interface <https://www.coin-or.org/Bonmin/index.html> .\n"
   ]
  },
  {
   "cell_type": "code",
   "execution_count": 1,
   "metadata": {},
   "outputs": [],
   "source": [
    "from __future__ import print_function\n",
    "import openturns as ot\n",
    "ot.Log.Show(ot.Log.NONE)"
   ]
  },
  {
   "cell_type": "markdown",
   "metadata": {},
   "source": [
    "List available algorithms\n",
    "\n"
   ]
  },
  {
   "cell_type": "code",
   "execution_count": 2,
   "metadata": {},
   "outputs": [
    {
     "name": "stdout",
     "output_type": "stream",
     "text": [
      "B-BB\n",
      "B-OA\n",
      "B-QG\n",
      "B-Hyb\n",
      "B-iFP\n"
     ]
    }
   ],
   "source": [
    "# Solvers disponíveis no Bonmin\n",
    "for algo in ot.Bonmin.GetAlgorithmNames():\n",
    "    print(algo)"
   ]
  },
  {
   "cell_type": "markdown",
   "metadata": {},
   "source": [
    "Details and references on bonmin algorithms are available here https://projects.coin-or.org/Bonmin.\n",
    "\n"
   ]
  },
  {
   "cell_type": "markdown",
   "metadata": {},
   "source": [
    "## Setting up and solving a simple problem\n",
    "\n",
    "The following example will demonstrate the use of bonmin \"BB\" algorithm to solve the following problem:\n",
    "\n",
    "\\begin{align}\\min - x_0 - x_1 - x_2\\end{align}\n",
    "\n",
    "such that:\n",
    "\n",
    "\\begin{align}\\begin{array}{l}\n",
    "   (x_1 - \\frac{1}{2})^2 + (x_2 - \\frac{1}{2})^2 \\leq \\frac{1}{4} \\\\\n",
    "   x_0 - x_1 \\leq 0 \\\\\n",
    "   x_0 + x_2 + x_3 \\leq 2\\\\\n",
    "   x_0 \\in \\{0,1\\}^n\\\\\n",
    "   (x_1, x_2) \\in \\mathbb{R}^2\\\\\n",
    "   x_3 \\in \\mathbb{N}\n",
    "   \\end{array}\\end{align}\n",
    "\n",
    "The theoretical minimum is reached for $x = [1,1,0.5,0]$. At this point, the objective function value is $-2.5$\n",
    "\n",
    "N.B.: OpenTURNS requires equality and inequality constraints to be stated as $g(x) = 0$ and $h(x) \\geq 0$, respectively. Thus the inequalities above will have to be restated to match this requirement:\n",
    "\n",
    "\\begin{align}\\begin{array}{l}\n",
    "   -(x_1 - \\frac{1}{2})^2 - (x_2 - \\frac{1}{2})^2 + \\frac{1}{4} \\geq 0\\\\\n",
    "   -x_0 + x_1 \\geq 0 \\\\\n",
    "   -x_0 - x_2 - x_3 + 2 \\geq 0\\\\\n",
    "   \\end{array}\\end{align}\n",
    "\n"
   ]
  },
  {
   "cell_type": "markdown",
   "metadata": {},
   "source": [
    "Definition of objective function\n",
    "\n"
   ]
  },
  {
   "cell_type": "code",
   "execution_count": 3,
   "metadata": {},
   "outputs": [],
   "source": [
    "objectiveFunction = ot.SymbolicFunction(['x0','x1','x2','x3'], ['-x0 -x1 -x2'])\n",
    "\n",
    "# Definition of variables bounds\n",
    "bounds = ot.Interval([0,0,0,0],[1,1e99,1e99,5],[True,True,True,True],[True,False,False,True])\n",
    "\n",
    "# Definition of constraints\n",
    "# Constraints in OpenTURNS are defined as g(x) = 0 and h(x) >= 0\n",
    "#    No equality constraint -> nothing to do\n",
    "#    Inequality constraints:\n",
    "h = ot.SymbolicFunction(['x0','x1','x2','x3'], ['-(x1-0.5)^2 - (x2-0.5)^2 + 0.25', 'x1 - x0', '-x0 - x2 - x3 + 2'])\n",
    "    \n",
    "# Definition of variables types\n",
    "variablesType = [ot.OptimizationProblemImplementation.BINARY,ot.OptimizationProblemImplementation.CONTINUOUS,ot.OptimizationProblemImplementation.CONTINUOUS,ot.OptimizationProblemImplementation.INTEGER]\n",
    "\n",
    "# Setting up Bonmin problem\n",
    "problem = ot.OptimizationProblem(objectiveFunction)\n",
    "problem.setBounds(bounds)\n",
    "problem.setVariablesType(variablesType)\n",
    "problem.setInequalityConstraint(h)\n",
    "\n",
    "bonminAlgorithm = ot.Bonmin(problem,'B-BB')\n",
    "bonminAlgorithm.setMaximumEvaluationNumber(10000)\n",
    "bonminAlgorithm.setMaximumIterationNumber(1000)\n",
    "bonminAlgorithm.setStartingPoint([0,0,0,0])\n",
    "\n",
    "ot.ResourceMap.AddAsString('Bonmin-mu_oracle','loqo')\n",
    "ot.ResourceMap.AddAsScalar('Bonmin-bonmin.time_limit',5)"
   ]
  },
  {
   "cell_type": "markdown",
   "metadata": {},
   "source": [
    "Running the solver\n",
    "\n"
   ]
  },
  {
   "cell_type": "code",
   "execution_count": 4,
   "metadata": {},
   "outputs": [
    {
     "name": "stdout",
     "output_type": "stream",
     "text": [
      " -- Optimal point = [1,1,0.500141,0]\n",
      " -- Optimal value = [-2.50014]\n",
      " -- Evaluation number = 147\n"
     ]
    }
   ],
   "source": [
    "bonminAlgorithm.run()\n",
    "\n",
    "# Retrieving the results\n",
    "result = bonminAlgorithm.getResult()\n",
    "print(\" -- Optimal point = \" + result.getOptimalPoint().__str__())\n",
    "print(\" -- Optimal value = \" + result.getOptimalValue().__str__())\n",
    "print(\" -- Evaluation number = \" + result.getInputSample().getSize().__str__())"
   ]
  },
  {
   "cell_type": "code",
   "execution_count": null,
   "metadata": {},
   "outputs": [],
   "source": []
  }
 ],
 "metadata": {
  "kernelspec": {
   "display_name": "Python 3 (ipykernel)",
   "language": "python",
   "name": "python3"
  },
  "language_info": {
   "codemirror_mode": {
    "name": "ipython",
    "version": 3
   },
   "file_extension": ".py",
   "mimetype": "text/x-python",
   "name": "python",
   "nbconvert_exporter": "python",
   "pygments_lexer": "ipython3",
   "version": "3.11.3"
  }
 },
 "nbformat": 4,
 "nbformat_minor": 1
}
